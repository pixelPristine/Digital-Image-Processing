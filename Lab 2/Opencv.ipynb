{
 "cells": [
  {
   "cell_type": "markdown",
   "id": "efe6fa35",
   "metadata": {},
   "source": [
    "### Importing the OpenCV Library\n",
    "\n",
    "In this step, we import the **OpenCV** library using `import cv2`. OpenCV is a powerful library used for computer vision and image processing tasks. It provides functions to work with images, videos, and many other related operations.\n",
    "\n",
    "- **`cv2`**: This is the module name used to access OpenCV functions in Python.\n",
    "- Before using OpenCV, make sure it is installed in your environment by running `pip install opencv-python`.\n"
   ]
  },
  {
   "cell_type": "code",
   "execution_count": 3,
   "id": "dc4ef424",
   "metadata": {},
   "outputs": [],
   "source": [
    "import cv2 \n"
   ]
  },
  {
   "cell_type": "markdown",
   "id": "9b4174fd",
   "metadata": {},
   "source": [
    "### Reading an Image\n",
    "\n",
    "In this step, we use the `cv2.imread()` function from OpenCV to read an image from a file. The function takes the path to the image file as an argument (in this case, `\"app.jpg\"`) and loads the image into a variable `img`. The image is stored as a NumPy array where each element represents the pixel values (BGR format by default).\n",
    "\n",
    "If the image is not found, the function returns `None`.\n",
    "\n",
    "- **Note**: Ensure that the image file `\"app.jpg\"` exists in the specified path or provide the correct file path.\n"
   ]
  },
  {
   "cell_type": "code",
   "execution_count": 4,
   "id": "25fe603d",
   "metadata": {},
   "outputs": [],
   "source": [
    "img = cv2.imread(\"img/khaleel.jpg\")\n"
   ]
  },
  {
   "cell_type": "markdown",
   "id": "ba99cdd4",
   "metadata": {},
   "source": [
    "### Checking the Type of the Image Object\n",
    "\n",
    "In this step, we use the `type()` function to check the data type of the `img` object. \n",
    "\n",
    "When an image is loaded using OpenCV's `cv2.imread()`, the image is represented as a **NumPy array**. This allows you to manipulate the image data easily, as each pixel is stored as a multi-dimensional array.\n",
    "\n",
    "- **Expected Output**: If the image is loaded successfully, the output will be `<class 'numpy.ndarray'>`.\n",
    "- If the image is not loaded properly (e.g., the file path is incorrect), the type will return `NoneType`.\n"
   ]
  },
  {
   "cell_type": "code",
   "execution_count": 4,
   "id": "8bfeefff",
   "metadata": {},
   "outputs": [
    {
     "data": {
      "text/plain": [
       "numpy.ndarray"
      ]
     },
     "execution_count": 4,
     "metadata": {},
     "output_type": "execute_result"
    }
   ],
   "source": [
    "type(img)"
   ]
  },
  {
   "cell_type": "code",
   "execution_count": 5,
   "id": "8f32388d",
   "metadata": {},
   "outputs": [
    {
     "data": {
      "text/plain": [
       "(1600, 800, 3)"
      ]
     },
     "execution_count": 5,
     "metadata": {},
     "output_type": "execute_result"
    }
   ],
   "source": [
    "img.shape"
   ]
  },
  {
   "cell_type": "code",
   "execution_count": 6,
   "id": "c775b91e",
   "metadata": {},
   "outputs": [],
   "source": [
    "width,height,channel =img.shape"
   ]
  },
  {
   "cell_type": "code",
   "execution_count": 7,
   "id": "767e61eb",
   "metadata": {},
   "outputs": [
    {
     "name": "stdout",
     "output_type": "stream",
     "text": [
      "The width is : 1600 \n",
      "The hight is: 800 \n",
      "The number of channels: 3 \n"
     ]
    }
   ],
   "source": [
    "print(f\"The width is : {width} \\nThe hight is: {height} \\nThe number of channels: {channel} \")"
   ]
  },
  {
   "cell_type": "code",
   "execution_count": 5,
   "id": "0396196c",
   "metadata": {},
   "outputs": [],
   "source": [
    "cv2.imshow(\"image1\",img)\n",
    "\n",
    "# Wait for a key press and close the windows\n",
    "cv2.waitKey(0)\n",
    "cv2.destroyAllWindows()"
   ]
  },
  {
   "cell_type": "code",
   "execution_count": 12,
   "id": "abebf79e",
   "metadata": {},
   "outputs": [
    {
     "name": "stdout",
     "output_type": "stream",
     "text": [
      "[[[ 49  25  59]\n",
      "  [ 49  28  60]\n",
      "  [ 47  33  57]\n",
      "  ...\n",
      "  [212 216 204]\n",
      "  [210 214 202]\n",
      "  [217 221 209]]\n",
      "\n",
      " [[ 42  19  51]\n",
      "  [ 42  22  51]\n",
      "  [ 42  29  51]\n",
      "  ...\n",
      "  [217 221 209]\n",
      "  [215 219 207]\n",
      "  [221 225 213]]\n",
      "\n",
      " [[ 38  16  44]\n",
      "  [ 38  19  44]\n",
      "  [ 40  28  48]\n",
      "  ...\n",
      "  [221 227 216]\n",
      "  [219 225 214]\n",
      "  [224 230 219]]\n",
      "\n",
      " ...\n",
      "\n",
      " [[210 200 166]\n",
      "  [214 203 171]\n",
      "  [216 206 176]\n",
      "  ...\n",
      "  [133 147 146]\n",
      "  [142 154 154]\n",
      "  [145 157 157]]\n",
      "\n",
      " [[212 203 166]\n",
      "  [213 204 167]\n",
      "  [214 203 171]\n",
      "  ...\n",
      "  [132 147 149]\n",
      "  [144 156 160]\n",
      "  [151 163 167]]\n",
      "\n",
      " [[218 209 171]\n",
      "  [218 209 172]\n",
      "  [219 209 175]\n",
      "  ...\n",
      "  [111 128 131]\n",
      "  [124 136 142]\n",
      "  [133 145 151]]]\n"
     ]
    }
   ],
   "source": [
    "print(img)"
   ]
  },
  {
   "cell_type": "code",
   "execution_count": 14,
   "id": "57f9907a",
   "metadata": {},
   "outputs": [
    {
     "name": "stdout",
     "output_type": "stream",
     "text": [
      "Red Channel Matrix: \n",
      " [[ 59  60  57 ... 204 202 209]\n",
      " [ 51  51  51 ... 209 207 213]\n",
      " [ 44  44  48 ... 216 214 219]\n",
      " ...\n",
      " [166 171 176 ... 146 154 157]\n",
      " [166 167 171 ... 149 160 167]\n",
      " [171 172 175 ... 131 142 151]]\n",
      "\n",
      "Green Channel Matrix: \n",
      " [[ 25  28  33 ... 216 214 221]\n",
      " [ 19  22  29 ... 221 219 225]\n",
      " [ 16  19  28 ... 227 225 230]\n",
      " ...\n",
      " [200 203 206 ... 147 154 157]\n",
      " [203 204 203 ... 147 156 163]\n",
      " [209 209 209 ... 128 136 145]]\n",
      "\n",
      "Blue Channel Matrix: \n",
      " [[ 49  49  47 ... 212 210 217]\n",
      " [ 42  42  42 ... 217 215 221]\n",
      " [ 38  38  40 ... 221 219 224]\n",
      " ...\n",
      " [210 214 216 ... 133 142 145]\n",
      " [212 213 214 ... 132 144 151]\n",
      " [218 218 219 ... 111 124 133]]\n"
     ]
    }
   ],
   "source": [
    "# Split the image into its Blue, Green, and Red channels\n",
    "B, G, R = cv2.split(img)\n",
    "\n",
    "# Print each channel matrix\n",
    "print(\"Red Channel Matrix: \\n\", R)\n",
    "print(\"\\nGreen Channel Matrix: \\n\", G)\n",
    "print(\"\\nBlue Channel Matrix: \\n\", B)\n"
   ]
  },
  {
   "cell_type": "code",
   "execution_count": 18,
   "id": "434afe0c",
   "metadata": {},
   "outputs": [],
   "source": [
    "# Optionally, display each channel as an image\n",
    "cv2.imshow('Red Channel', R)\n",
    "cv2.imshow('Green Channel', G)\n",
    "cv2.imshow('Blue Channel', B)\n",
    "\n",
    "cv2.waitKey(0)\n",
    "cv2.destroyAllWindows()"
   ]
  },
  {
   "cell_type": "code",
   "execution_count": 19,
   "id": "87e66be3",
   "metadata": {},
   "outputs": [],
   "source": [
    "img2 = cv2.imread(r\"C:\\Users\\PMLS\\Pictures\\Screenshots\\kkokoma.png\")\n",
    "img2 = cv2.resize(img2, (700,500))"
   ]
  },
  {
   "cell_type": "code",
   "execution_count": 21,
   "id": "952accc4",
   "metadata": {},
   "outputs": [],
   "source": [
    "cv2.imshow(\"image\",img2)\n",
    "\n",
    "cv2.waitKey(0)\n",
    "cv2.destroyAllWindows()"
   ]
  },
  {
   "cell_type": "code",
   "execution_count": 23,
   "id": "5660edec",
   "metadata": {},
   "outputs": [],
   "source": [
    "img2 = cv2.imread(\"img/kkokoma2.png\")"
   ]
  },
  {
   "cell_type": "code",
   "execution_count": 24,
   "id": "ed4cc8d5",
   "metadata": {},
   "outputs": [],
   "source": [
    "cv2.imshow(\"image\",img2)\n",
    "\n",
    "cv2.waitKey(0)\n",
    "cv2.destroyAllWindows()"
   ]
  },
  {
   "cell_type": "code",
   "execution_count": 1,
   "id": "3dd95af8",
   "metadata": {
    "scrolled": true
   },
   "outputs": [
    {
     "ename": "ModuleNotFoundError",
     "evalue": "No module named 'pandas'",
     "output_type": "error",
     "traceback": [
      "\u001b[1;31m---------------------------------------------------------------------------\u001b[0m",
      "\u001b[1;31mModuleNotFoundError\u001b[0m                       Traceback (most recent call last)",
      "Cell \u001b[1;32mIn[1], line 3\u001b[0m\n\u001b[0;32m      1\u001b[0m \u001b[38;5;66;03m# Import the necessary libraries\u001b[39;00m\n\u001b[0;32m      2\u001b[0m \u001b[38;5;66;03m# from sklearn.datasets import load_iris\u001b[39;00m\n\u001b[1;32m----> 3\u001b[0m \u001b[38;5;28;01mimport\u001b[39;00m \u001b[38;5;21;01mpandas\u001b[39;00m \u001b[38;5;28;01mas\u001b[39;00m \u001b[38;5;21;01mpd\u001b[39;00m\n\u001b[0;32m      5\u001b[0m \u001b[38;5;66;03m# Load the Iris dataset\u001b[39;00m\n\u001b[0;32m      6\u001b[0m iris \u001b[38;5;241m=\u001b[39m load_iris()\n",
      "\u001b[1;31mModuleNotFoundError\u001b[0m: No module named 'pandas'"
     ]
    }
   ],
   "source": [
    "# Import the necessary libraries\n",
    "# from sklearn.datasets import load_iris\n",
    "import pandas as pd\n",
    "\n",
    "# Load the Iris dataset\n",
    "iris = load_iris()\n",
    "\n",
    "# Display the dataset's description\n",
    "print(iris.DESCR)\n"
   ]
  },
  {
   "cell_type": "code",
   "execution_count": 81,
   "id": "017b7ce8",
   "metadata": {},
   "outputs": [
    {
     "name": "stdout",
     "output_type": "stream",
     "text": [
      ".. _iris_dataset:\n",
      "\n",
      "Iris plants dataset\n",
      "--------------------\n",
      "\n",
      "**Data Set Characteristics:**\n",
      "\n",
      "    :Number of Instances: 150 (50 in each of three classes)\n",
      "    :Number of Attributes: 4 numeric, predictive attributes and the class\n",
      "    :Attribute Information:\n",
      "        - sepal length in cm\n",
      "        - sepal width in cm\n",
      "        - petal length in cm\n",
      "        - petal width in cm\n",
      "        - class:\n",
      "                - Iris-Setosa\n",
      "                - Iris-Versicolour\n",
      "                - Iris-Virginica\n",
      "                \n",
      "    :Summary Statistics:\n",
      "\n",
      "    ============== ==== ==== ======= ===== ====================\n",
      "                    Min  Max   Mean    SD   Class Correlation\n",
      "    ============== ==== ==== ======= ===== ====================\n",
      "    sepal length:   4.3  7.9   5.84   0.83    0.7826\n",
      "    sepal width:    2.0  4.4   3.05   0.43   -0.4194\n",
      "    petal length:   1.0  6.9   3.76   1.76    0.9490  (high!)\n",
      "    petal width:    0.1  2.5   1.20   0.76    0.9565  (high!)\n",
      "    ============== ==== ==== ======= ===== ====================\n",
      "\n",
      "    :Missing Attribute Values: None\n",
      "    :Class Distribution: 33.3% for each of 3 classes.\n",
      "    :Creator: R.A. Fisher\n",
      "    :Donor: Michael Marshall (MARSHALL%PLU@io.arc.nasa.gov)\n",
      "    :Date: July, 1988\n",
      "\n",
      "The famous Iris database, first used by Sir R.A. Fisher. The dataset is taken\n",
      "from Fisher's paper. Note that it's the same as in R, but not as in the UCI\n",
      "Machine Learning Repository, which has two wrong data points.\n",
      "\n",
      "This is perhaps the best known database to be found in the\n",
      "pattern recognition literature.  Fisher's paper is a classic in the field and\n",
      "is referenced frequently to this day.  (See Duda & Hart, for example.)  The\n",
      "data set contains 3 classes of 50 instances each, where each class refers to a\n",
      "type of iris plant.  One class is linearly separable from the other 2; the\n",
      "latter are NOT linearly separable from each other.\n",
      "\n",
      ".. topic:: References\n",
      "\n",
      "   - Fisher, R.A. \"The use of multiple measurements in taxonomic problems\"\n",
      "     Annual Eugenics, 7, Part II, 179-188 (1936); also in \"Contributions to\n",
      "     Mathematical Statistics\" (John Wiley, NY, 1950).\n",
      "   - Duda, R.O., & Hart, P.E. (1973) Pattern Classification and Scene Analysis.\n",
      "     (Q327.D83) John Wiley & Sons.  ISBN 0-471-22361-1.  See page 218.\n",
      "   - Dasarathy, B.V. (1980) \"Nosing Around the Neighborhood: A New System\n",
      "     Structure and Classification Rule for Recognition in Partially Exposed\n",
      "     Environments\".  IEEE Transactions on Pattern Analysis and Machine\n",
      "     Intelligence, Vol. PAMI-2, No. 1, 67-71.\n",
      "   - Gates, G.W. (1972) \"The Reduced Nearest Neighbor Rule\".  IEEE Transactions\n",
      "     on Information Theory, May 1972, 431-433.\n",
      "   - See also: 1988 MLC Proceedings, 54-64.  Cheeseman et al\"s AUTOCLASS II\n",
      "     conceptual clustering system finds 3 classes in the data.\n",
      "   - Many, many more ...\n",
      "   sepal length (cm)  sepal width (cm)  petal length (cm)  petal width (cm)  \\\n",
      "0                5.1               3.5                1.4               0.2   \n",
      "1                4.9               3.0                1.4               0.2   \n",
      "2                4.7               3.2                1.3               0.2   \n",
      "3                4.6               3.1                1.5               0.2   \n",
      "4                5.0               3.6                1.4               0.2   \n",
      "\n",
      "   species  \n",
      "0        0  \n",
      "1        0  \n",
      "2        0  \n",
      "3        0  \n",
      "4        0  \n"
     ]
    }
   ],
   "source": [
    "# Display the dataset's description\n",
    "print(iris.DESCR)\n",
    "\n",
    "# Convert the dataset into a pandas DataFrame\n",
    "# The dataset contains 'data' (features) and 'target' (labels)\n",
    "df = pd.DataFrame(data=iris.data, columns=iris.feature_names)\n",
    "df['species'] = iris.target\n",
    "\n",
    "# Display the first 5 rows of the DataFrame\n",
    "print(df.head())\n",
    "\n"
   ]
  }
 ],
 "metadata": {
  "kernelspec": {
   "display_name": "Python 3 (ipykernel)",
   "language": "python",
   "name": "python3"
  },
  "language_info": {
   "codemirror_mode": {
    "name": "ipython",
    "version": 3
   },
   "file_extension": ".py",
   "mimetype": "text/x-python",
   "name": "python",
   "nbconvert_exporter": "python",
   "pygments_lexer": "ipython3",
   "version": "3.12.6"
  }
 },
 "nbformat": 4,
 "nbformat_minor": 5
}
