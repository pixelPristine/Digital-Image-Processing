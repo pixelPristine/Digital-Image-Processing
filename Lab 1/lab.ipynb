{
 "cells": [
  {
   "cell_type": "code",
   "execution_count": 27,
   "metadata": {},
   "outputs": [],
   "source": [
    "import numpy as np"
   ]
  },
  {
   "cell_type": "code",
   "execution_count": 28,
   "metadata": {},
   "outputs": [
    {
     "data": {
      "text/plain": [
       "array([[1, 2, 3],\n",
       "       [4, 5, 6],\n",
       "       [7, 8, 9]])"
      ]
     },
     "execution_count": 28,
     "metadata": {},
     "output_type": "execute_result"
    }
   ],
   "source": [
    "mat1 = np.arange(1,10).reshape(3,3)\n",
    "mat1"
   ]
  },
  {
   "cell_type": "code",
   "execution_count": 39,
   "metadata": {},
   "outputs": [
    {
     "data": {
      "text/plain": [
       "array([[9, 8, 7],\n",
       "       [6, 5, 4],\n",
       "       [3, 2, 1]])"
      ]
     },
     "execution_count": 39,
     "metadata": {},
     "output_type": "execute_result"
    }
   ],
   "source": [
    "mat2 = np.arange(1,10)[::-1].reshape(3,3)\n",
    "mat2"
   ]
  },
  {
   "cell_type": "code",
   "execution_count": 61,
   "metadata": {},
   "outputs": [],
   "source": [
    "def input_matrices():\n",
    "  rows1 = int(input(\"Enter the number of rows: \"))\n",
    "  cols1 = int(input(\"Enter the number of columns: \"))\n",
    "  \n",
    "\n",
    "  mat1 = []\n",
    "  print(\"Enter the elements of the first matrix row by row:\")\n",
    "  for i in range(rows1):\n",
    "    row = []\n",
    "    for j in range(cols1):\n",
    "      element = int(input(f\"Enter element at position ({i+1},{j+1}): \"))\n",
    "      row.append(element)\n",
    "    mat1.append(row)\n",
    "    \n",
    "  print('Matrix 1 : ')\n",
    "  print(mat1)\n",
    "  \n",
    "  rows2 = int(input(\"Enter the number of rows: \"))\n",
    "  cols2 = int(input(\"Enter the number of columns: \"))\n",
    "\n",
    "  mat2 = []\n",
    "  print(\"Enter the elements of the second matrix row by row:\")\n",
    "  for i in range(rows2):\n",
    "    row = []\n",
    "    for j in range(cols2):\n",
    "      element = int(input(f\"Enter element at position ({i+1},{j+1}): \"))\n",
    "      row.append(element)\n",
    "    mat2.append(row)\n",
    "\n",
    "  print('Matrix 2 : \\n', mat2)\n",
    "  print(mat2)\n",
    "  \n",
    "  \n",
    "  return np.array(mat1), np.array(mat2)"
   ]
  },
  {
   "cell_type": "code",
   "execution_count": 41,
   "metadata": {},
   "outputs": [],
   "source": [
    "def checkDimSum(a,b):\n",
    "  print('Matrix 1 shape: ', np.shape(a))\n",
    "  print('Matrix 2 shape: ',np.shape(b))\n",
    "  return True if np.shape(a) == np.shape(b) else False"
   ]
  },
  {
   "cell_type": "code",
   "execution_count": 51,
   "metadata": {},
   "outputs": [],
   "source": [
    "def matSum (mat1, mat2):\n",
    "    print('Matrix Summation')\n",
    "    if(not checkDimSum(mat1,mat2)):\n",
    "        return 'Array size incompatible'\n",
    "    \n",
    "    mat3 = np.zeros((mat1.shape[0], mat2.shape[1]))\n",
    "\n",
    "    for c in range(mat1.shape[0]):\n",
    "        for r in range(mat2.shape[1]):\n",
    "            mat3[c][r] = mat1[c][r] + mat2[c][r]\n",
    "            \n",
    "    return mat3"
   ]
  },
  {
   "cell_type": "code",
   "execution_count": 43,
   "metadata": {},
   "outputs": [
    {
     "name": "stdout",
     "output_type": "stream",
     "text": [
      "Matrix 1 shape:  (3, 3)\n",
      "Matrix 2 shape:  (3, 3)\n"
     ]
    },
    {
     "data": {
      "text/plain": [
       "array([[10., 10., 10.],\n",
       "       [10., 10., 10.],\n",
       "       [10., 10., 10.]])"
      ]
     },
     "execution_count": 43,
     "metadata": {},
     "output_type": "execute_result"
    }
   ],
   "source": [
    "matSum(mat1,mat2)"
   ]
  },
  {
   "cell_type": "code",
   "execution_count": 45,
   "metadata": {},
   "outputs": [],
   "source": [
    "def checkDimMult(a,b):\n",
    "  print('Matrix 1 shape: ', np.shape(a))\n",
    "  print('Matrix 2 shape: ',np.shape(b))\n",
    "  return True if np.shape(a)[0] == np.shape(b)[1] else False"
   ]
  },
  {
   "cell_type": "code",
   "execution_count": 50,
   "metadata": {},
   "outputs": [],
   "source": [
    "def matMult (mat1, mat2):\n",
    "    print('Matrix Multiplication')\n",
    "    if(not checkDimMult(mat1,mat2)):\n",
    "        return 'Array size incompatible'\n",
    "    \n",
    "    # Assuming mat1 and mat2 are already defined and have compatible dimensions\n",
    "    mat3 = np.zeros((mat1.shape[0], mat2.shape[1]))\n",
    "\n",
    "    for c in range(mat1.shape[0]):\n",
    "        for r in range(mat2.shape[1]):\n",
    "            sum = 0\n",
    "            for k in range(mat1.shape[1]):\n",
    "                sum += mat1[c][k] * mat2[k][r]\n",
    "            mat3[c][r] = sum\n",
    "            # print(sum)\n",
    "\n",
    "    return mat3\n"
   ]
  },
  {
   "cell_type": "code",
   "execution_count": 47,
   "metadata": {},
   "outputs": [
    {
     "name": "stdout",
     "output_type": "stream",
     "text": [
      "Matrix 1 shape:  (3, 3)\n",
      "Matrix 2 shape:  (3, 3)\n"
     ]
    },
    {
     "data": {
      "text/plain": [
       "array([[ 30.,  24.,  18.],\n",
       "       [ 84.,  69.,  54.],\n",
       "       [138., 114.,  90.]])"
      ]
     },
     "execution_count": 47,
     "metadata": {},
     "output_type": "execute_result"
    }
   ],
   "source": [
    "matMult(mat1,mat2)"
   ]
  },
  {
   "cell_type": "code",
   "execution_count": 48,
   "metadata": {},
   "outputs": [
    {
     "name": "stdout",
     "output_type": "stream",
     "text": [
      "Matrix 1 shape:  (3, 3)\n",
      "Matrix 2 shape:  (3, 3)\n"
     ]
    },
    {
     "data": {
      "text/plain": [
       "array([[ True,  True,  True],\n",
       "       [ True, False,  True],\n",
       "       [ True,  True,  True]])"
      ]
     },
     "execution_count": 48,
     "metadata": {},
     "output_type": "execute_result"
    }
   ],
   "source": [
    "mat3 = mat1@mat2\n",
    "mat3[1][1] = 0\n",
    "mat3 = np.array(mat3)\n",
    "mat3 == matMult(mat1,mat2)\n",
    "# matMult(mat1,mat2) == np.array(mat1@mat2)"
   ]
  },
  {
   "cell_type": "markdown",
   "metadata": {},
   "source": [
    "Summation"
   ]
  },
  {
   "cell_type": "code",
   "execution_count": 62,
   "metadata": {},
   "outputs": [
    {
     "name": "stdout",
     "output_type": "stream",
     "text": [
      "Enter the elements of the first matrix row by row:\n",
      "Matrix 1 : \n",
      "[[1, 2, 3], [4, 5, 6], [7, 8, 9]]\n",
      "Enter the elements of the second matrix row by row:\n",
      "Matrix 2 : \n",
      " [[9, 8, 7], [6, 5, 4], [3, 2, 1]]\n",
      "[[9, 8, 7], [6, 5, 4], [3, 2, 1]]\n",
      "Matrix Summation\n",
      "Matrix 1 shape:  (3, 3)\n",
      "Matrix 2 shape:  (3, 3)\n"
     ]
    },
    {
     "data": {
      "text/plain": [
       "array([[10., 10., 10.],\n",
       "       [10., 10., 10.],\n",
       "       [10., 10., 10.]])"
      ]
     },
     "execution_count": 62,
     "metadata": {},
     "output_type": "execute_result"
    }
   ],
   "source": [
    "mat1,mat2 = input_matrices()\n",
    "matSum(mat1,mat2)"
   ]
  },
  {
   "cell_type": "markdown",
   "metadata": {},
   "source": [
    "Multiplication"
   ]
  },
  {
   "cell_type": "code",
   "execution_count": 63,
   "metadata": {},
   "outputs": [
    {
     "name": "stdout",
     "output_type": "stream",
     "text": [
      "Enter the elements of the first matrix row by row:\n",
      "Matrix 1 : \n",
      "[[1, 2, 3], [4, 5, 6]]\n",
      "Enter the elements of the second matrix row by row:\n",
      "Matrix 2 : \n",
      " [[7, 8], [9, 10], [11, 12]]\n",
      "[[7, 8], [9, 10], [11, 12]]\n",
      "Matrix Multiplication\n",
      "Matrix 1 shape:  (2, 3)\n",
      "Matrix 2 shape:  (3, 2)\n"
     ]
    },
    {
     "data": {
      "text/plain": [
       "array([[ 58.,  64.],\n",
       "       [139., 154.]])"
      ]
     },
     "execution_count": 63,
     "metadata": {},
     "output_type": "execute_result"
    }
   ],
   "source": [
    "mat1,mat2 = input_matrices()\n",
    "matMult(mat1,mat2)"
   ]
  }
 ],
 "metadata": {
  "kernelspec": {
   "display_name": "Python 3",
   "language": "python",
   "name": "python3"
  },
  "language_info": {
   "codemirror_mode": {
    "name": "ipython",
    "version": 3
   },
   "file_extension": ".py",
   "mimetype": "text/x-python",
   "name": "python",
   "nbconvert_exporter": "python",
   "pygments_lexer": "ipython3",
   "version": "3.12.6"
  }
 },
 "nbformat": 4,
 "nbformat_minor": 2
}
