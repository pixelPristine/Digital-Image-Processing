{
 "cells": [
  {
   "cell_type": "markdown",
   "metadata": {},
   "source": [
    "# Task 1"
   ]
  },
  {
   "cell_type": "code",
   "execution_count": 45,
   "metadata": {},
   "outputs": [],
   "source": [
    "import cv2 as cv\n",
    "import numpy as np"
   ]
  },
  {
   "cell_type": "code",
   "execution_count": 53,
   "metadata": {},
   "outputs": [
    {
     "data": {
      "text/plain": [
       "(975, 1461)"
      ]
     },
     "execution_count": 53,
     "metadata": {},
     "output_type": "execute_result"
    }
   ],
   "source": [
    "# img = cv.imread('images/img.png', cv.IMREAD_GRAYSCALE)\n",
    "img = cv.imread('images/img.png')\n",
    "\n",
    "# img = cv.cvtColor(img,  cv.COLOR_BGR2GRAY)"
   ]
  },
  {
   "cell_type": "code",
   "execution_count": 3,
   "metadata": {},
   "outputs": [],
   "source": [
    "cv.imshow('wow', img)\n",
    "cv.waitKey(0)\n",
    "cv.destroyAllWindows()"
   ]
  },
  {
   "cell_type": "code",
   "execution_count": 4,
   "metadata": {},
   "outputs": [
    {
     "data": {
      "text/plain": [
       "(975, 1461)"
      ]
     },
     "execution_count": 4,
     "metadata": {},
     "output_type": "execute_result"
    }
   ],
   "source": [
    "img.shape\n"
   ]
  },
  {
   "cell_type": "code",
   "execution_count": 5,
   "metadata": {},
   "outputs": [
    {
     "data": {
      "text/plain": [
       "1424475"
      ]
     },
     "execution_count": 5,
     "metadata": {},
     "output_type": "execute_result"
    }
   ],
   "source": [
    "img.size"
   ]
  },
  {
   "cell_type": "markdown",
   "metadata": {},
   "source": [
    "# Task 2"
   ]
  },
  {
   "cell_type": "code",
   "execution_count": 29,
   "metadata": {},
   "outputs": [],
   "source": [
    "T2 = cv.imread('images/img.png')\n",
    "T2 = cv.resize(T2, (500,500), interpolation=cv.INTER_CUBIC)"
   ]
  },
  {
   "cell_type": "code",
   "execution_count": 30,
   "metadata": {},
   "outputs": [],
   "source": [
    "_,T2bw = cv.threshold(cv.cvtColor(T2, cv.COLOR_BGR2GRAY), 127,255, cv.THRESH_BINARY)\n"
   ]
  },
  {
   "cell_type": "code",
   "execution_count": 31,
   "metadata": {},
   "outputs": [],
   "source": [
    "cv.imshow('original', T2)\n",
    "cv.imshow('bw' , T2bw)\n",
    "cv.waitKey()\n",
    "cv.destroyAllWindows()"
   ]
  },
  {
   "cell_type": "markdown",
   "metadata": {},
   "source": [
    "# Task 3"
   ]
  },
  {
   "cell_type": "code",
   "execution_count": 77,
   "metadata": {},
   "outputs": [],
   "source": [
    "def task3 (img):\n",
    "    if len(img.shape) == 3 and img.shape[2] == 3:\n",
    "        print('3 channels')\n",
    "        img = cv.cvtColor(T2, cv.COLOR_BGR2GRAY)\n",
    "        img = binarize(img)\n",
    "        cv.imshow('binarized 3 channel img', img)\n",
    "        cv.waitKey()\n",
    "        cv.destroyAllWindows()\n",
    "    elif len(img.shape) == 2:\n",
    "        print('1 channel')\n",
    "        cv.imshow('binarized 3 channel img', img)\n",
    "        cv.waitKey()\n",
    "        cv.destroyAllWindows()\n",
    "    else:\n",
    "        print(\"unknown number of channels\")"
   ]
  },
  {
   "cell_type": "code",
   "execution_count": 79,
   "metadata": {},
   "outputs": [
    {
     "name": "stdout",
     "output_type": "stream",
     "text": [
      "1 channel\n"
     ]
    }
   ],
   "source": [
    "T3 = cv.imread('images/img.png')\n",
    "T3 = cv.cvtColor(T2, cv.COLOR_BGR2GRAY)\n",
    "task3(T3)"
   ]
  },
  {
   "cell_type": "code",
   "execution_count": null,
   "metadata": {},
   "outputs": [],
   "source": []
  },
  {
   "cell_type": "markdown",
   "metadata": {},
   "source": [
    "# Task 4"
   ]
  },
  {
   "cell_type": "code",
   "execution_count": null,
   "metadata": {},
   "outputs": [],
   "source": [
    "def binarize(img):\n",
    "    for c in range(img.shape[0]):\n",
    "        for r in range(img.shape[1]):\n",
    "            if img[c][r] >127:\n",
    "                img[c][r] = 255\n",
    "            else:\n",
    "                img[c][r] = 0\n",
    "    return img"
   ]
  },
  {
   "cell_type": "code",
   "execution_count": 19,
   "metadata": {},
   "outputs": [],
   "source": [
    "fr = cv.cvtColor(save, cv.COLOR_BGR2GRAY)\n",
    "bw = binarize(fr)\n",
    "cv.imshow('bw',bw)\n",
    "cv.waitKey(0)\n",
    "cv.destroyAllWindows()"
   ]
  },
  {
   "cell_type": "markdown",
   "metadata": {},
   "source": [
    "# Webcam"
   ]
  },
  {
   "cell_type": "code",
   "execution_count": 38,
   "metadata": {},
   "outputs": [],
   "source": [
    "capture = cv.VideoCapture(0)\n",
    "save = img\n",
    "while True:\n",
    "    isTrue, frame = capture.read()\n",
    "    \n",
    "    # This is the preferred way - if `isTrue` is false (the frame could \n",
    "    # not be read, or we're at the end of the video), we immediately\n",
    "    # break from the loop.\n",
    "    if isTrue:\n",
    "        frame = cv.resize(frame, (500,400),interpolation=cv.INTER_CUBIC)\n",
    "        gframe = cv.cvtColor(frame, cv.COLOR_BGR2GRAY)\n",
    "        _,bw = cv.threshold(gframe, 127,255, cv.THRESH_BINARY)\n",
    "        blur = cv.GaussianBlur(gframe, (3,3),cv.BORDER_DEFAULT )\n",
    "        canny = cv.Canny(blur, 125,175)\n",
    "        cv.imshow(\"GrayScale Video\", gframe)\n",
    "        cv.imshow(\"B&W Video\", bw)\n",
    "        cv.imshow(\"Contours Video\", canny)\n",
    "        if cv.waitKey(20) & 0xFF==ord('q'):\n",
    "            save = frame\n",
    "            break\n",
    "capture.release()\n",
    "cv.destroyAllWindows()"
   ]
  },
  {
   "cell_type": "code",
   "execution_count": 18,
   "metadata": {},
   "outputs": [],
   "source": [
    "\n",
    "cv.imshow('bw',frame)\n",
    "cv.waitKey(0)\n",
    "cv.destroyAllWindows()"
   ]
  },
  {
   "cell_type": "code",
   "execution_count": null,
   "metadata": {},
   "outputs": [],
   "source": []
  }
 ],
 "metadata": {
  "kernelspec": {
   "display_name": ".venv",
   "language": "python",
   "name": "python3"
  },
  "language_info": {
   "codemirror_mode": {
    "name": "ipython",
    "version": 3
   },
   "file_extension": ".py",
   "mimetype": "text/x-python",
   "name": "python",
   "nbconvert_exporter": "python",
   "pygments_lexer": "ipython3",
   "version": "3.12.6"
  }
 },
 "nbformat": 4,
 "nbformat_minor": 2
}
